{
 "cells": [
  {
   "cell_type": "code",
   "execution_count": null,
   "metadata": {
    "ExecuteTime": {
     "start_time": "2019-11-28T10:00:36.530Z"
    }
   },
   "outputs": [],
   "source": [
    "#导入数据集生成器\n",
    "from sklearn.datasets import make_blobs\n",
    "#导入KNN分类器\n",
    "from sklearn.neighbors import KNeighborsClassifier\n",
    "#导入绘图工具\n",
    "import matplotlib.pyplot as plt\n",
    "#导入数据集拆开工具\n",
    "from sklearn.model_selection import train_test_split\n",
    "import numpy as np\n",
    "\n",
    "\n",
    "#生成样本数为1000，分类为5的数据集\n",
    "data=make_blobs(n_samples=1000,centers=5,random_state=8)\n",
    "X,y=data\n",
    "#就生成的数据集进行可视化，设置热图的Colormap,cmap=plt.cm.spring\n",
    "plt.scatter(X[:,0],X[:,1],c=y,cmap=plt.cm.spring,edgecolor='K')\n",
    "plt.show()\n",
    "\n",
    "\n",
    "clf=KNeighborsClassifier()\n",
    "clf.fit(X,y)\n",
    "\n",
    "#下面的代码用于画图\n",
    "x_min,x_max=X[:,0].min()-1,X[:,0].max()+1\n",
    "y_min,y_max=X[:,1].min()-1,X[:,1].max()+1\n",
    "#np.meshgrid接受两个一维数组，并产生两个二维数组\n",
    "xx,yy=np.meshgrid(np.arange(x_min,x_max,.02),\n",
    "                  np.arange(y_min,y_max,.02))\n",
    "#xx.ravel():表示把一个矩阵行优先展成一个向量，跟flatten一样\n",
    "#np.c_是把矩阵或者向量按照第二个轴排起来，也就是列轴\n",
    "#用训练好的分类器去预测\n",
    "Z=clf.predict(np.c_[xx.ravel(),yy.ravel()])\n",
    "Z=Z.reshape(xx.shape)\n",
    "#plt.pcolormesh的作用在于能够直观表现出分类边界\n",
    "plt.pcolormesh(xx,yy,Z,cmap=plt.cm.Pastel1)\n",
    "#绘制散点图\n",
    "plt.scatter(X[:,0],X[:,1],c=y,cmap=plt.cm.spring,edgecolor='K')\n",
    "plt.xlim(xx.min(),xx.max())\n",
    "plt.ylim(yy.min(),yy.max())\n",
    "plt.title(\"Classifier:KNN\")\n",
    "#在图中绘制五角星\n",
    "plt.scatter(6.75,4.82,marker='*',c='red',s=200)\n",
    "plt.show()\n"
   ]
  },
  {
   "cell_type": "code",
   "execution_count": null,
   "metadata": {},
   "outputs": [],
   "source": []
  }
 ],
 "metadata": {
  "kernelspec": {
   "display_name": "Python 3",
   "language": "python",
   "name": "python3"
  },
  "language_info": {
   "codemirror_mode": {
    "name": "ipython",
    "version": 3
   },
   "file_extension": ".py",
   "mimetype": "text/x-python",
   "name": "python",
   "nbconvert_exporter": "python",
   "pygments_lexer": "ipython3",
   "version": "3.7.1"
  }
 },
 "nbformat": 4,
 "nbformat_minor": 2
}
